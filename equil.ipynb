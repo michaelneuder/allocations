{
 "cells": [
  {
   "cell_type": "code",
   "execution_count": 1,
   "metadata": {},
   "outputs": [],
   "source": [
    "import numpy as np\n",
    "from scipy.optimize import fsolve"
   ]
  },
  {
   "cell_type": "code",
   "execution_count": 2,
   "metadata": {},
   "outputs": [],
   "source": [
    "def equations(vars, v1, k):\n",
    "    b1, b2 = vars\n",
    "    eq1 = b1 + b2 - np.sqrt(v1 * b2)\n",
    "    eq2 = b2 + b1 - np.sqrt(k * v1 * b1)\n",
    "    return [eq1, eq2]"
   ]
  },
  {
   "cell_type": "code",
   "execution_count": 3,
   "metadata": {},
   "outputs": [
    {
     "name": "stdout",
     "output_type": "stream",
     "text": [
      "b1: 0.2499999999999995, b2: 0.2499999999999995\n"
     ]
    },
    {
     "data": {
      "text/plain": [
       "1.0"
      ]
     },
     "execution_count": 3,
     "metadata": {},
     "output_type": "execute_result"
    }
   ],
   "source": [
    "v1 = 1\n",
    "k = 1\n",
    "\n",
    "# Initial guesses for b1 and b2\n",
    "initial_guesses = [0.1, 0.1]\n",
    "\n",
    "# Solve the system of equations\n",
    "b1, b2 = fsolve(equations, initial_guesses, args=(v1, k))\n",
    "\n",
    "print(f\"b1: {b1}, b2: {b2}\")\n",
    "b1 / b2"
   ]
  },
  {
   "cell_type": "code",
   "execution_count": 4,
   "metadata": {},
   "outputs": [],
   "source": [
    "# sqrt\n",
    "def equations_sqrt(vars, v1, k):\n",
    "    b1, b2 = vars\n",
    "    eq1 = b1 - 4 * b2 * (np.sqrt(b1) + np.sqrt(b2))**4\n",
    "    eq2 = b2 - 4 * b1 * (np.sqrt(b1) + np.sqrt(b2))**4\n",
    "    return [eq1, eq2]"
   ]
  },
  {
   "cell_type": "code",
   "execution_count": 8,
   "metadata": {},
   "outputs": [
    {
     "name": "stdout",
     "output_type": "stream",
     "text": [
      "b1: 0.12500000000000083, b2: 0.12500000000000083\n"
     ]
    },
    {
     "data": {
      "text/plain": [
       "1.0"
      ]
     },
     "execution_count": 8,
     "metadata": {},
     "output_type": "execute_result"
    }
   ],
   "source": [
    "v1 = 1\n",
    "k = 1\n",
    "\n",
    "# Initial guesses for b1 and b2\n",
    "initial_guesses = [0.1, 0.1]\n",
    "\n",
    "# Solve the system of equations\n",
    "b1, b2 = fsolve(equations_sqrt, initial_guesses, args=(v1, k))\n",
    "\n",
    "print(f\"b1: {b1}, b2: {b2}\")\n",
    "b1 / b2"
   ]
  },
  {
   "cell_type": "code",
   "execution_count": 9,
   "metadata": {},
   "outputs": [],
   "source": [
    "# qudradic\n",
    "def equations_sqrt(vars, v1, k):\n",
    "    b1, b2 = vars\n",
    "    eq1 = b1 - (b1**2 + b2**2)**2 / 2*b2**2\n",
    "    eq2 = b2 - (b1**2 + b2**2)**2 / 2*b1**2\n",
    "    return [eq1, eq2]"
   ]
  },
  {
   "cell_type": "code",
   "execution_count": 21,
   "metadata": {},
   "outputs": [
    {
     "name": "stdout",
     "output_type": "stream",
     "text": [
      "b1: 0.8705505632961242, b2: 0.8705505632961242\n"
     ]
    },
    {
     "data": {
      "text/plain": [
       "1.0"
      ]
     },
     "execution_count": 21,
     "metadata": {},
     "output_type": "execute_result"
    }
   ],
   "source": [
    "v1 = 1\n",
    "k = 1\n",
    "\n",
    "# Initial guesses for b1 and b2\n",
    "initial_guesses = [0.99, 0.99]\n",
    "\n",
    "# Solve the system of equations\n",
    "b1, b2 = fsolve(equations_sqrt, initial_guesses, args=(v1, k))\n",
    "\n",
    "print(f\"b1: {b1}, b2: {b2}\")\n",
    "b1 / b2"
   ]
  },
  {
   "cell_type": "code",
   "execution_count": 26,
   "metadata": {},
   "outputs": [
    {
     "data": {
      "text/plain": [
       "0.8705505632961241"
      ]
     },
     "execution_count": 26,
     "metadata": {},
     "output_type": "execute_result"
    }
   ],
   "source": [
    "1/(2**(1/5))"
   ]
  },
  {
   "cell_type": "code",
   "execution_count": 22,
   "metadata": {},
   "outputs": [
    {
     "data": {
      "text/plain": [
       "0.87"
      ]
     },
     "execution_count": 22,
     "metadata": {},
     "output_type": "execute_result"
    }
   ],
   "source": [
    "87 / 100"
   ]
  },
  {
   "cell_type": "code",
   "execution_count": null,
   "metadata": {},
   "outputs": [],
   "source": []
  },
  {
   "cell_type": "code",
   "execution_count": 37,
   "metadata": {},
   "outputs": [],
   "source": [
    "def equations2(vars, v1, k, alpha):\n",
    "    b1, b2 = vars\n",
    "    eq1 = b1**(2*alpha) + 2*b1**alpha*b2**alpha + b2**(2*alpha) - v1*alpha*b1**(alpha-1)*b2**alpha\n",
    "    eq2 = b2**(2*alpha) + 2*b1**alpha*b2**alpha + b1**(2*alpha) - k*v1*alpha*b2**(alpha-1)*b1**alpha\n",
    "    return [eq1, eq2]"
   ]
  },
  {
   "cell_type": "code",
   "execution_count": 57,
   "metadata": {},
   "outputs": [
    {
     "name": "stdout",
     "output_type": "stream",
     "text": [
      "b1: 0.12132034355964373, b2: 0.2426406871192866\n"
     ]
    },
    {
     "data": {
      "text/plain": [
       "0.5000000000000018"
      ]
     },
     "execution_count": 57,
     "metadata": {},
     "output_type": "execute_result"
    }
   ],
   "source": [
    "v1 = 1\n",
    "k = 2\n",
    "alpha = 0.5\n",
    "\n",
    "initial_guesses = [0.3, 0.3]\n",
    "\n",
    "b1, b2 = fsolve(equations2, initial_guesses, args=(v1, k, alpha))\n",
    "print(f\"b1: {b1}, b2: {b2}\")\n",
    "b1 / b2"
   ]
  },
  {
   "cell_type": "code",
   "execution_count": 44,
   "metadata": {},
   "outputs": [
    {
     "data": {
      "text/plain": [
       "(0.12222222222222222, 0.24444444444444444)"
      ]
     },
     "execution_count": 44,
     "metadata": {},
     "output_type": "execute_result"
    }
   ],
   "source": [
    "11/90, 11/45"
   ]
  }
 ],
 "metadata": {
  "kernelspec": {
   "display_name": "Python 3",
   "language": "python",
   "name": "python3"
  },
  "language_info": {
   "codemirror_mode": {
    "name": "ipython",
    "version": 3
   },
   "file_extension": ".py",
   "mimetype": "text/x-python",
   "name": "python",
   "nbconvert_exporter": "python",
   "pygments_lexer": "ipython3",
   "version": "3.8.16"
  }
 },
 "nbformat": 4,
 "nbformat_minor": 4
}
